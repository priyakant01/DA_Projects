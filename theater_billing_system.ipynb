{
 "cells": [
  {
   "cell_type": "code",
   "execution_count": null,
   "id": "f8f91422-51be-4b29-827f-a43de7fca76d",
   "metadata": {},
   "outputs": [
    {
     "name": "stdout",
     "output_type": "stream",
     "text": [
      " Hello Sir/Ma'am\n",
      "welcome to the gold cinema \n"
     ]
    }
   ],
   "source": [
    "n_seats = 200\n",
    "r_seats = 50\n",
    "n_seats_price = 300\n",
    "r_seats_price = 500\n",
    "C1 = 100\n",
    "C2 = 200\n",
    "C3 = 300\n",
    "print(\"\"\" Hello Sir/Ma'am\n",
    "welcome to the gold cinema \"\"\")\n",
    "name = input(\"enter your name:\")\n",
    "print(\"\"\" we have two types of seats\n",
    "1. normal seats which price is 300.\n",
    "2. recliner seats which price is 500.\"\"\")\n",
    "choice = int(input(\"enter your choice:\"))\n",
    "while True:\n",
    "    if choice == 1:\n",
    "        seats = int(input(\"enter your seats :\"))\n",
    "        if seats > n_seats:\n",
    "            print(\"the avialable seats are\",seats)\n",
    "        else:\n",
    "            total = seats * n_seats_price\n",
    "            n_seats -= seats\n",
    "            print(\"your amount is:\",total)\n",
    "    if choice == 2:\n",
    "        seats = int(input(\"enter your seats :\"))\n",
    "        if seats > r_seats:\n",
    "            print(\"the avialable seats are\",seats)\n",
    "        else:\n",
    "            total = seats * r_seats_price\n",
    "            r_seats -= seats \n",
    "            print(\"your amount is:\",total)\n",
    "        combo = input(\"do you want to add a combo\")\n",
    "        if combo == \"No\":\n",
    "            break\n",
    "        print(\"for add  combo\")\n",
    "        print(\"\"\" press 1 for add 100rs combo which include burger+colddrink\n",
    "        press 2 for add 200rs combo which include burger+colddrink+popcorn \n",
    "        press 3 for add 300rs combo which include burger+pizza+colddrink\"\"\")\n",
    "        combo = int(input(\"enter your choice:\"))\n",
    "        if combo == 1:\n",
    "            total += 100\n",
    "        elif combo == 2:\n",
    "            total += 200\n",
    "        elif combo == 3:\n",
    "            total += 300\n",
    "        else:\n",
    "            print(\"you choose a wrong input\")\n",
    "        other_person = input(\"do you want to print bill other person ?\")\n",
    "        if other_person == \"No\":\n",
    "            break\n",
    "print(\"-\"*100)\n",
    "print(\"your bill is:\",total)\n"
   ]
  },
  {
   "cell_type": "code",
   "execution_count": null,
   "id": "70035ac9-e937-40fb-819e-b59a5441193e",
   "metadata": {},
   "outputs": [],
   "source": []
  }
 ],
 "metadata": {
  "kernelspec": {
   "display_name": "Python 3 (ipykernel)",
   "language": "python",
   "name": "python3"
  },
  "language_info": {
   "codemirror_mode": {
    "name": "ipython",
    "version": 3
   },
   "file_extension": ".py",
   "mimetype": "text/x-python",
   "name": "python",
   "nbconvert_exporter": "python",
   "pygments_lexer": "ipython3",
   "version": "3.12.0"
  }
 },
 "nbformat": 4,
 "nbformat_minor": 5
}
